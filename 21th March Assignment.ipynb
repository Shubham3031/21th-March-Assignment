{
 "cells": [
  {
   "cell_type": "code",
   "execution_count": null,
   "id": "c7f20f70-dbf6-4f92-994f-8e37672be8ae",
   "metadata": {},
   "outputs": [],
   "source": [
    "# 1.Ans.\n",
    "\n",
    "Ordinal encoding is used when there is a clear ordering or hierarchy among the categories of \n",
    "a categorical variable. In ordinal encoding, each category is assigned a unique integer value\n",
    "based on its position in the ordering.\n",
    "\n",
    "Label encoding, on the other hand, is used when there is no clear ordering among the \n",
    "categories of a categorical variable. In label encoding, each category is assigned a \n",
    "unique integer value without regard to its position in any ordering.\n",
    "\n",
    "As an example, suppose we have a dataset containing information about different types of restaurants,\n",
    "including their cuisine, price range, and customer rating. The \"price range\" column might be ordinal,\n",
    "as there is a clear ordering among the categories (e.g., \"cheap\", \"moderate\", \"expensive\"). \n",
    "In this case, we would use ordinal encoding to assign unique integer values to each category\n",
    "based on their position in the ordering. On the other hand, the \"cuisine\" column might be label encoded, \n",
    "as there is no clear ordering among the categories (e.g., \"Italian\", \"Chinese\", \"Mexican\").\n",
    "In this case, we would use label encoding to assign unique integer values to each category without\n",
    "regard to their relative importance or order."
   ]
  },
  {
   "cell_type": "code",
   "execution_count": null,
   "id": "fc20da27-3ba2-4176-8d92-1b0d2dbff5f6",
   "metadata": {},
   "outputs": [],
   "source": [
    "# 2.Ans.\n",
    "\n",
    "Target Guided Ordinal Encoding is a technique used to encode categorical variables based on the \n",
    "target variable in a supervised learning problem. It involves replacing the categorical values \n",
    "with ordinal values that are determined based on the relationship between the category and the target variable.\n",
    "\n",
    "The steps for Target Guided Ordinal Encoding are as follows:\n",
    "\n",
    "Compute the mean of the target variable for each category of the categorical variable.\n",
    "Sort the categories based on the mean of the target variable in ascending or descending order.\n",
    "Assign ordinal values to the categories based on their rank in the sorted list.\n",
    "\n",
    "For example, let's say we have a dataset containing information about credit card transactions, \n",
    "including the type of transaction (e.g. \"grocery\", \"dining\", \"travel\"), and whether or not the \n",
    "transaction was fraudulent (0 for non-fraudulent, 1 for fraudulent). We want to use this data to\n",
    "build a model that predicts the likelihood of fraud for new transactions.\n",
    "\n",
    "We could use Target Guided Ordinal Encoding to encode the \"type of transaction\" variable as follows:\n",
    "\n",
    "Compute the mean of the target variable (fraudulent) for each category of the \"type of transaction\" variable.\n",
    "Sort the categories based on the mean of the target variable in descending order (highest mean first).\n",
    "Assign ordinal values to the categories based on their rank in the sorted list (e.g. \"dining\" might be\n",
    "assigned a value of 1, \"travel\" a value of 2, and \"grocery\" a value of 3).\n",
    "The resulting encoded variable would now have ordinal values that reflect the relationship between the \n",
    "categories and the likelihood of fraud. In this case, we might expect that transactions categorized as \n",
    "\"dining\" are more likely to be fraudulent, followed by \"travel\", and then \"grocery\"."
   ]
  },
  {
   "cell_type": "code",
   "execution_count": null,
   "id": "b860ffb1-87b6-43b8-8631-8f366966a31d",
   "metadata": {},
   "outputs": [],
   "source": [
    "# 3.Ans.\n",
    "\n",
    "Covariance is a statistical measure that quantifies the relationship between two variables.\n",
    "It measures how much two variables change together, or how much they are related. Specifically, \n",
    "covariance measures the extent to which the deviations of one variable from its mean are associated \n",
    "with the deviations of the other variable from its mean.\n",
    "\n",
    "Covariance is important in statistical analysis because it helps to determine the nature and strength\n",
    "of the relationship between two variables. For example, if two variables have a positive covariance, \n",
    "it means that they tend to increase or decrease together. Conversely, if two variables have a negative\n",
    "covariance, it means that as one variable increases, the other variable tends to decrease.\n",
    "\n",
    "Covariance is calculated using the following formula:\n",
    "\n",
    "cov(X,Y) = (1/n) * ∑(Xi - X_mean) * (Yi - Y_mean)\n",
    "\n",
    "Where:\n",
    "\n",
    "X and Y are the two variables being analyzed\n",
    "Xi and Yi are the individual data points for X and Y\n",
    "X_mean and Y_mean are the means of X and Y, respectively\n",
    "n is the total number of data points"
   ]
  },
  {
   "cell_type": "code",
   "execution_count": 6,
   "id": "8fe9ee05-6e54-49c8-881c-c903d64dda56",
   "metadata": {},
   "outputs": [
    {
     "name": "stdout",
     "output_type": "stream",
     "text": [
      "   Color    Size Material\n",
      "0    red   small     wood\n",
      "1  green  medium    metal\n",
      "2   blue   large  plastic\n"
     ]
    }
   ],
   "source": [
    "# 4.Ans.\n",
    "\n",
    "import pandas as pd\n",
    "from sklearn.preprocessing import LabelEncoder\n",
    "\n",
    "colors = pd.Categorical(['red','green','blue']) \n",
    "sizes = pd.Categorical(['small','medium','large'])\n",
    "materials = pd.Categorical(['wood','metal','plastic'])\n",
    "                \n",
    "df = pd.DataFrame({'Color': colors, 'Size': sizes, 'Material': materials})\n",
    "print(df)\n",
    "                   \n",
    "                    \n"
   ]
  },
  {
   "cell_type": "code",
   "execution_count": 14,
   "id": "c4237c36-c726-4f1a-b033-a0df6a266ccc",
   "metadata": {},
   "outputs": [
    {
     "data": {
      "text/html": [
       "<div>\n",
       "<style scoped>\n",
       "    .dataframe tbody tr th:only-of-type {\n",
       "        vertical-align: middle;\n",
       "    }\n",
       "\n",
       "    .dataframe tbody tr th {\n",
       "        vertical-align: top;\n",
       "    }\n",
       "\n",
       "    .dataframe thead th {\n",
       "        text-align: right;\n",
       "    }\n",
       "</style>\n",
       "<table border=\"1\" class=\"dataframe\">\n",
       "  <thead>\n",
       "    <tr style=\"text-align: right;\">\n",
       "      <th></th>\n",
       "      <th>Color</th>\n",
       "      <th>Size</th>\n",
       "      <th>Material</th>\n",
       "    </tr>\n",
       "  </thead>\n",
       "  <tbody>\n",
       "    <tr>\n",
       "      <th>0</th>\n",
       "      <td>2</td>\n",
       "      <td>2</td>\n",
       "      <td>2</td>\n",
       "    </tr>\n",
       "    <tr>\n",
       "      <th>1</th>\n",
       "      <td>1</td>\n",
       "      <td>1</td>\n",
       "      <td>0</td>\n",
       "    </tr>\n",
       "    <tr>\n",
       "      <th>2</th>\n",
       "      <td>0</td>\n",
       "      <td>0</td>\n",
       "      <td>1</td>\n",
       "    </tr>\n",
       "  </tbody>\n",
       "</table>\n",
       "</div>"
      ],
      "text/plain": [
       "   Color  Size  Material\n",
       "0      2     2         2\n",
       "1      1     1         0\n",
       "2      0     0         1"
      ]
     },
     "execution_count": 14,
     "metadata": {},
     "output_type": "execute_result"
    }
   ],
   "source": [
    "# Create an instance of LAbel Encoder\n",
    "encoder = LabelEncoder()\n",
    "df.apply(encoder.fit_transform)\n",
    "\n"
   ]
  },
  {
   "cell_type": "code",
   "execution_count": null,
   "id": "5146e28f-0910-4830-84ea-d8331081d37d",
   "metadata": {},
   "outputs": [],
   "source": [
    "# EXPLANATION OF OUTPUT:\n",
    "\n",
    "In this code, we first define the three categorical variables: colors, sizes, and materials.\n",
    "We then create a sample dataframe df that contains 3 rows with values for these three variables.\n",
    "\n",
    "We then create an instance of the LabelEncoder class from scikit-learn. This class is used to \n",
    "transform categorical variables into numeric values. We then fit and transform the sample dataframe\n",
    "df using the fit_transform method of the LabelEncoder instance."
   ]
  },
  {
   "cell_type": "code",
   "execution_count": 19,
   "id": "d3d833af-b51b-412f-a139-60ec6f134a2b",
   "metadata": {},
   "outputs": [
    {
     "name": "stdout",
     "output_type": "stream",
     "text": [
      "                Age       Income  Education\n",
      "Age            62.5     125000.0       25.0\n",
      "Income     125000.0  250000000.0    50000.0\n",
      "Education      25.0      50000.0       10.0\n"
     ]
    }
   ],
   "source": [
    "# 5.Ans.\n",
    "\n",
    "import seaborn as sns\n",
    "import pandas as pd\n",
    "\n",
    "age = [25, 30, 35, 40, 45]\n",
    "income = [50000, 60000, 70000, 80000, 90000]\n",
    "education = [12, 14, 16, 18, 20]\n",
    "\n",
    "df = pd.DataFrame({'Age': age, 'Income': income, 'Education': education})\n",
    "\n",
    "cov_matrix = df.cov()\n",
    "\n",
    "print(cov_matrix)\n"
   ]
  },
  {
   "cell_type": "code",
   "execution_count": null,
   "id": "1fa25bd0-a542-4510-9cd0-577616b5d141",
   "metadata": {},
   "outputs": [],
   "source": [
    "# 6.Ans.\n",
    "\n",
    "For the categorical variable \"Gender\", a binary encoding method can be used. \n",
    "In binary encoding, the variable is encoded using 0 and 1, where 0 represents one category \n",
    "and 1 represents the other. In this case, we can use 0 for \"Male\" and 1 for \"Female\", as \n",
    "there are only two categories.\n",
    "\n",
    "For the categorical variable \"Education Level\", we can use one-hot encoding method. \n",
    "One-hot encoding is a method of representing categorical data as binary vectors. \n",
    "Each category is assigned a unique binary code, where only one bit is set to 1, and \n",
    "all other bits are set to 0. In this case, we can create four binary columns for the \n",
    "four categories of education level: \"High School\", \"Bachelor's\", \"Master's\", and \"PhD\".\n",
    "\n",
    "For the categorical variable \"Employment Status\", we can also use one-hot encoding method. \n",
    "Similar to the \"Education Level\" variable, we can create three binary columns for the three \n",
    "categories of employment status: \"Unemployed\", \"Part-Time\", and \"Full-Time\".\n"
   ]
  },
  {
   "cell_type": "code",
   "execution_count": null,
   "id": "a0090004-e556-4275-ab84-55c197425076",
   "metadata": {},
   "outputs": [],
   "source": [
    "# 7.Ans.\n",
    "\n",
    "Covariance measures the degree to which two variables change together.\n",
    "It can be calculated using the following formula:\n",
    "\n",
    "cov(X,Y) = Σ[(Xi - Xmean) * (Yi - Ymean)] / (n-1)\n",
    "\n",
    "where X and Y are the variables, Xi and Yi are the individual values of X and Y, Xmean \n",
    "and Ymean are the means of X and Y, and n is the sample size.\n",
    "\n",
    "To calculate the covariance between \"Temperature\" and \"Humidity,\" you would first calculate the\n",
    "mean of each variable. Let's say the mean temperature is 25 degrees Celsius and the mean humidity is\n",
    "70%. Then, for each observation in the dataset, you would subtract the mean temperature from the \n",
    "observed temperature and the mean humidity from the observed humidity, and multiply these values \n",
    "together. You would then sum these products across all observations and divide by the sample size minus 1.\n",
    "\n",
    "To calculate the covariance between the two categorical variables, \n",
    "\"Weather Condition\" and \"Wind Direction,\" you would need to first convert them into numerical values.\n",
    "For example, you could assign \"Sunny\" a value of 1, \"Cloudy\" a value of 2, and \"Rainy\" a value of 3,\n",
    "and \"North\" a value of 1, \"South\" a value of 2, \"East\" a value of 3, and \"West\" a value of 4. \n",
    "You would then calculate the covariance."
   ]
  }
 ],
 "metadata": {
  "kernelspec": {
   "display_name": "Python 3 (ipykernel)",
   "language": "python",
   "name": "python3"
  },
  "language_info": {
   "codemirror_mode": {
    "name": "ipython",
    "version": 3
   },
   "file_extension": ".py",
   "mimetype": "text/x-python",
   "name": "python",
   "nbconvert_exporter": "python",
   "pygments_lexer": "ipython3",
   "version": "3.10.6"
  }
 },
 "nbformat": 4,
 "nbformat_minor": 5
}
